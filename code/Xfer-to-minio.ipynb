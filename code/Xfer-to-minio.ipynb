{
 "cells": [
  {
   "cell_type": "markdown",
   "id": "e09c673d",
   "metadata": {},
   "source": [
    "# Transferring files to MinIO"
   ]
  },
  {
   "cell_type": "markdown",
   "id": "19aac13c",
   "metadata": {},
   "source": [
    "This notebook contains code to transfer files/directories to MniIO."
   ]
  },
  {
   "cell_type": "markdown",
   "id": "d0ee02dd",
   "metadata": {},
   "source": [
    "First, we import the classes and libraries we need to run the notebook."
   ]
  },
  {
   "cell_type": "code",
   "execution_count": 2,
   "id": "00860e40",
   "metadata": {
    "tags": []
   },
   "outputs": [],
   "source": [
    "\n",
    "!pip install -q typing python-dotenv minio"
   ]
  },
  {
   "cell_type": "markdown",
   "id": "d10005ef",
   "metadata": {},
   "source": [
    "Now we define all the methods required to perform the transfer. "
   ]
  },
  {
   "cell_type": "code",
   "execution_count": 17,
   "id": "2cd07a7e-d460-4c14-8f36-3db305e136c8",
   "metadata": {
    "tags": []
   },
   "outputs": [],
   "source": [
    "from minio import Minio\n",
    "from minio.error import S3Error\n",
    "from dotenv import load_dotenv\n",
    "from typing import NamedTuple\n",
    "import os\n",
    "import pathlib\n",
    "\n",
    "class S3Env(NamedTuple):\n",
    "  access_key_id: str\n",
    "  secret_access_key: str\n",
    "  s3_endpoint: str\n",
    "  bucket_name: str\n",
    "  default_region: str\n",
    "\n",
    "class MinioBucketMeta(NamedTuple):\n",
    "  client: Minio\n",
    "  bucket_name: str\n",
    "  prefix: str = \"\"\n",
    "  model_data_dir: str = None\n",
    "  file_name: str = None\n",
    "  object_name: str = None\n",
    "  exclude_dirs_set: set[str] = None\n",
    "  exclude_files_set: set[str] = None"
   ]
  },
  {
   "cell_type": "code",
   "execution_count": 18,
   "id": "a03201d2-fbd4-41f8-87b3-d1daa26eef0f",
   "metadata": {
    "tags": []
   },
   "outputs": [],
   "source": [
    "def init_env() -> S3Env:\n",
    "  load_dotenv()\n",
    "\n",
    "  access_key_id = os.environ.get('AWS_ACCESS_KEY_ID')\n",
    "  secret_access_key = os.environ.get('AWS_SECRET_ACCESS_KEY')\n",
    "  default_region = os.environ.get('AWS_DEFAULT_REGION')\n",
    "  s3_endpoint = os.environ.get('AWS_S3_ENDPOINT')\n",
    "  bucket_name = os.environ.get('AWS_S3_BUCKET')\n",
    "\n",
    "  # The s3 endpoint seems to have a prefix of \"https://\" even though it's not set like that in the env\n",
    "  # removing that prefix\n",
    "  s3_endpoint = s3_endpoint.replace('https://', '').replace('http://', '')\n",
    "\n",
    "  # print(f'key_id={access_key_id}, secret_key={secret_access_key}')\n",
    "  # print(f's3_endpoint={s3_endpoint}, bucket={bucket_name}')\n",
    "\n",
    "  return S3Env(access_key_id, secret_access_key, s3_endpoint, bucket_name, default_region)\n",
    "\n",
    "def init_minio(s3_env: S3Env, isSecure: bool = True) -> Minio:\n",
    "  return Minio(\n",
    "    s3_env.s3_endpoint,\n",
    "    access_key = s3_env.access_key_id,\n",
    "    secret_key = s3_env.secret_access_key,\n",
    "    secure = isSecure\n",
    "  )\n",
    "\n",
    "def list_objects_minio(bucket_name: str, client: Minio):\n",
    "  print(f'\\n\\nListing all the object in the bucket [{bucket_name}] from Minio')\n",
    "\n",
    "  try:\n",
    "    objects = client.list_objects(bucket_name, recursive=True)\n",
    "    for obj in objects:\n",
    "      print(f'name={obj.object_name}, modified={obj.last_modified}, etag={obj.etag}, size={obj.size}, content_type={obj.content_type}')\n",
    "  except S3Error as e:\n",
    "    print(\"Error occurred: \", e)\n",
    "\n",
    "def upload_file(file_model: MinioBucketMeta):\n",
    "  client: Minio = file_model.client\n",
    "\n",
    "  # Replace the model directory name with the prefix (for the bucket object)\n",
    "  object_name = file_model.file_name.replace(file_model.model_data_dir, file_model.prefix)\n",
    "\n",
    "  print(f'   -> Trying to upload file [{file_model.file_name}] with key [{object_name}] to the bucket [{file_model.bucket_name}]...', end=\" \")\n",
    "\n",
    "  try:\n",
    "    client.fput_object(file_model.bucket_name, object_name, file_model.file_name)\n",
    "    print('SUCCESS')\n",
    "  except S3Error as e:\n",
    "    print('FAILURE')\n",
    "    print(\"Error:: \", e)\n",
    "\n",
    "\n",
    "def upload_files(dir_model: MinioBucketMeta):\n",
    "  print(f'Uploading files from [{dir_model.model_data_dir}] directory...')\n",
    "  client = dir_model.client\n",
    "\n",
    "  if not client.bucket_exists(dir_model.bucket_name):\n",
    "    client.make_bucket(dir_model.bucket_name)\n",
    "    print(f' -->> Created bucket [{dir_model.bucket_name}]')\n",
    "  else:\n",
    "    print(f' -->> Bucket already exists [{dir_model.bucket_name}]')\n",
    "\n",
    "  for (dir_path, dirs, files) in os.walk(dir_model.model_data_dir):\n",
    "    print(f'root={dir_path}, dirs={dirs}, files={files}')\n",
    "\n",
    "    # Remove the exclude directories\n",
    "    if dir_model.exclude_dirs_set is not None:\n",
    "      dirs_size = len(dirs)\n",
    "      dirs[:] = [d for d in dirs if d not in dir_model.exclude_dirs_set]\n",
    "      if len(dirs) < dirs_size:\n",
    "        print(f'Ignored {dir_model.exclude_dirs_set} directories...')\n",
    "\n",
    "    for f in files:\n",
    "      if not f.startswith('.') and (dir_model.exclude_files_set is None or f not in dir_model.exclude_files_set):\n",
    "        file_name = pathlib.Path(dir_path, f)\n",
    "\n",
    "        upload_file(MinioBucketMeta(client=dir_model.client,\n",
    "                                          bucket_name=dir_model.bucket_name,\n",
    "                                          file_name=str(file_name),\n",
    "                                          prefix=dir_model.prefix,\n",
    "                                          model_data_dir=dir_model.model_data_dir))\n",
    "      else:\n",
    "        print(f'   -->> *** File (or dir) [{f}] IGNORED... *** <<--')"
   ]
  }
 ],
 "metadata": {
  "kernelspec": {
   "display_name": "Python 3.9",
   "language": "python",
   "name": "python3"
  },
  "language_info": {
   "codemirror_mode": {
    "name": "ipython",
    "version": 3
   },
   "file_extension": ".py",
   "mimetype": "text/x-python",
   "name": "python",
   "nbconvert_exporter": "python",
   "pygments_lexer": "ipython3",
   "version": "3.9.18"
  }
 },
 "nbformat": 4,
 "nbformat_minor": 5
}
